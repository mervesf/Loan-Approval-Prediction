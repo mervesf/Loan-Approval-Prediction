{
  "metadata": {
    "kernelspec": {
      "language": "python",
      "display_name": "Python 3",
      "name": "python3"
    },
    "language_info": {
      "name": "python",
      "version": "3.10.12",
      "mimetype": "text/x-python",
      "codemirror_mode": {
        "name": "ipython",
        "version": 3
      },
      "pygments_lexer": "ipython3",
      "nbconvert_exporter": "python",
      "file_extension": ".py"
    },
    "kaggle": {
      "accelerator": "none",
      "dataSources": [
        {
          "sourceId": 21070,
          "sourceType": "datasetVersion",
          "datasetId": 15953
        }
      ],
      "dockerImageVersionId": 30615,
      "isInternetEnabled": false,
      "language": "python",
      "sourceType": "notebook",
      "isGpuEnabled": false
    },
    "colab": {
      "name": "LoanApprovalPrediction",
      "provenance": []
    }
  },
  "nbformat_minor": 0,
  "nbformat": 4,
  "cells": [
    {
      "source": [
        "# IMPORTANT: RUN THIS CELL IN ORDER TO IMPORT YOUR KAGGLE DATA SOURCES,\n",
        "# THEN FEEL FREE TO DELETE THIS CELL.\n",
        "# NOTE: THIS NOTEBOOK ENVIRONMENT DIFFERS FROM KAGGLE'S PYTHON\n",
        "# ENVIRONMENT SO THERE MAY BE MISSING LIBRARIES USED BY YOUR\n",
        "# NOTEBOOK.\n",
        "import kagglehub\n",
        "ninzaami_loan_predication_path = kagglehub.dataset_download('ninzaami/loan-predication')\n",
        "\n",
        "print('Data source import complete.')\n"
      ],
      "metadata": {
        "id": "SJQr0JmyDBtC"
      },
      "cell_type": "code",
      "outputs": [],
      "execution_count": null
    },
    {
      "cell_type": "code",
      "source": [
        "# This Python 3 environment comes with many helpful analytics libraries installed\n",
        "# It is defined by the kaggle/python Docker image: https://github.com/kaggle/docker-python\n",
        "# For example, here's several helpful packages to load\n",
        "\n",
        "import numpy as np # linear algebra\n",
        "import pandas as pd # data processing, CSV file I/O (e.g. pd.read_csv)\n",
        "import plotly.graph_objects as go\n",
        "from plotly.offline import iplot\n",
        "import matplotlib.pyplot as plt\n",
        "import seaborn as sns\n",
        "import math\n",
        "from collections import Counter\n",
        "\n",
        "# Input data files are available in the read-only \"../input/\" directory\n",
        "# For example, running this (by clicking run or pressing Shift+Enter) will list all files under the input directory\n",
        "\n",
        "import os\n",
        "for dirname, _, filenames in os.walk('/kaggle/input'):\n",
        "    for filename in filenames:\n",
        "        print(os.path.join(dirname, filename))\n",
        "\n",
        "# You can write up to 20GB to the current directory (/kaggle/working/) that gets preserved as output when you create a version using \"Save & Run All\"\n",
        "# You can also write temporary files to /kaggle/temp/, but they won't be saved outside of the current session"
      ],
      "metadata": {
        "_uuid": "8f2839f25d086af736a60e9eeb907d3b93b6e0e5",
        "_cell_guid": "b1076dfc-b9ad-4769-8c92-a6c4dae69d19",
        "execution": {
          "iopub.status.busy": "2023-12-19T05:13:58.324665Z",
          "iopub.execute_input": "2023-12-19T05:13:58.325049Z",
          "iopub.status.idle": "2023-12-19T05:13:58.334101Z",
          "shell.execute_reply.started": "2023-12-19T05:13:58.325018Z",
          "shell.execute_reply": "2023-12-19T05:13:58.332995Z"
        },
        "trusted": true,
        "id": "4nn-dUN9DBtD",
        "outputId": "a45efbe1-61f8-41c9-9d4b-2fe7bb76047d"
      },
      "execution_count": null,
      "outputs": [
        {
          "name": "stdout",
          "text": "/kaggle/input/loan-predication/train_u6lujuX_CVtuZ9i (1).csv\n",
          "output_type": "stream"
        }
      ]
    },
    {
      "cell_type": "code",
      "source": [
        "#In my project, I effectively demonstrate a structured approach to data preprocessing and visualization for a loan prediction problem."
      ],
      "metadata": {
        "id": "NR0ZembcDBtE"
      },
      "execution_count": null,
      "outputs": []
    },
    {
      "cell_type": "code",
      "source": [
        "df=pd.read_csv('/kaggle/input/loan-predication/train_u6lujuX_CVtuZ9i (1).csv')"
      ],
      "metadata": {
        "execution": {
          "iopub.status.busy": "2023-12-19T05:14:00.03401Z",
          "iopub.execute_input": "2023-12-19T05:14:00.03435Z",
          "iopub.status.idle": "2023-12-19T05:14:00.043162Z",
          "shell.execute_reply.started": "2023-12-19T05:14:00.034324Z",
          "shell.execute_reply": "2023-12-19T05:14:00.042094Z"
        },
        "trusted": true,
        "id": "7R8IRB_aDBtE"
      },
      "execution_count": null,
      "outputs": []
    },
    {
      "cell_type": "code",
      "source": [
        "df.head()"
      ],
      "metadata": {
        "execution": {
          "iopub.status.busy": "2023-12-19T05:06:32.128567Z",
          "iopub.execute_input": "2023-12-19T05:06:32.128939Z",
          "iopub.status.idle": "2023-12-19T05:06:32.147313Z",
          "shell.execute_reply.started": "2023-12-19T05:06:32.128911Z",
          "shell.execute_reply": "2023-12-19T05:06:32.146194Z"
        },
        "trusted": true,
        "id": "P2Wa2jg-DBtE",
        "outputId": "b439e24b-faf3-40a2-e421-ff37d5c4a5ce"
      },
      "execution_count": null,
      "outputs": [
        {
          "execution_count": 196,
          "output_type": "execute_result",
          "data": {
            "text/plain": "    Loan_ID Gender Married Dependents     Education Self_Employed  \\\n0  LP001002   Male      No          0      Graduate            No   \n1  LP001003   Male     Yes          1      Graduate            No   \n2  LP001005   Male     Yes          0      Graduate           Yes   \n3  LP001006   Male     Yes          0  Not Graduate            No   \n4  LP001008   Male      No          0      Graduate            No   \n\n   ApplicantIncome  CoapplicantIncome  LoanAmount  Loan_Amount_Term  \\\n0             5849                0.0         NaN             360.0   \n1             4583             1508.0       128.0             360.0   \n2             3000                0.0        66.0             360.0   \n3             2583             2358.0       120.0             360.0   \n4             6000                0.0       141.0             360.0   \n\n   Credit_History Property_Area Loan_Status  \n0             1.0         Urban           Y  \n1             1.0         Rural           N  \n2             1.0         Urban           Y  \n3             1.0         Urban           Y  \n4             1.0         Urban           Y  ",
            "text/html": "<div>\n<style scoped>\n    .dataframe tbody tr th:only-of-type {\n        vertical-align: middle;\n    }\n\n    .dataframe tbody tr th {\n        vertical-align: top;\n    }\n\n    .dataframe thead th {\n        text-align: right;\n    }\n</style>\n<table border=\"1\" class=\"dataframe\">\n  <thead>\n    <tr style=\"text-align: right;\">\n      <th></th>\n      <th>Loan_ID</th>\n      <th>Gender</th>\n      <th>Married</th>\n      <th>Dependents</th>\n      <th>Education</th>\n      <th>Self_Employed</th>\n      <th>ApplicantIncome</th>\n      <th>CoapplicantIncome</th>\n      <th>LoanAmount</th>\n      <th>Loan_Amount_Term</th>\n      <th>Credit_History</th>\n      <th>Property_Area</th>\n      <th>Loan_Status</th>\n    </tr>\n  </thead>\n  <tbody>\n    <tr>\n      <th>0</th>\n      <td>LP001002</td>\n      <td>Male</td>\n      <td>No</td>\n      <td>0</td>\n      <td>Graduate</td>\n      <td>No</td>\n      <td>5849</td>\n      <td>0.0</td>\n      <td>NaN</td>\n      <td>360.0</td>\n      <td>1.0</td>\n      <td>Urban</td>\n      <td>Y</td>\n    </tr>\n    <tr>\n      <th>1</th>\n      <td>LP001003</td>\n      <td>Male</td>\n      <td>Yes</td>\n      <td>1</td>\n      <td>Graduate</td>\n      <td>No</td>\n      <td>4583</td>\n      <td>1508.0</td>\n      <td>128.0</td>\n      <td>360.0</td>\n      <td>1.0</td>\n      <td>Rural</td>\n      <td>N</td>\n    </tr>\n    <tr>\n      <th>2</th>\n      <td>LP001005</td>\n      <td>Male</td>\n      <td>Yes</td>\n      <td>0</td>\n      <td>Graduate</td>\n      <td>Yes</td>\n      <td>3000</td>\n      <td>0.0</td>\n      <td>66.0</td>\n      <td>360.0</td>\n      <td>1.0</td>\n      <td>Urban</td>\n      <td>Y</td>\n    </tr>\n    <tr>\n      <th>3</th>\n      <td>LP001006</td>\n      <td>Male</td>\n      <td>Yes</td>\n      <td>0</td>\n      <td>Not Graduate</td>\n      <td>No</td>\n      <td>2583</td>\n      <td>2358.0</td>\n      <td>120.0</td>\n      <td>360.0</td>\n      <td>1.0</td>\n      <td>Urban</td>\n      <td>Y</td>\n    </tr>\n    <tr>\n      <th>4</th>\n      <td>LP001008</td>\n      <td>Male</td>\n      <td>No</td>\n      <td>0</td>\n      <td>Graduate</td>\n      <td>No</td>\n      <td>6000</td>\n      <td>0.0</td>\n      <td>141.0</td>\n      <td>360.0</td>\n      <td>1.0</td>\n      <td>Urban</td>\n      <td>Y</td>\n    </tr>\n  </tbody>\n</table>\n</div>"
          },
          "metadata": {}
        }
      ]
    },
    {
      "cell_type": "code",
      "source": [
        "df.info()"
      ],
      "metadata": {
        "execution": {
          "iopub.status.busy": "2023-12-17T19:08:21.712978Z",
          "iopub.execute_input": "2023-12-17T19:08:21.713503Z",
          "iopub.status.idle": "2023-12-17T19:08:21.73708Z",
          "shell.execute_reply.started": "2023-12-17T19:08:21.713468Z",
          "shell.execute_reply": "2023-12-17T19:08:21.735594Z"
        },
        "trusted": true,
        "id": "RpT9OqXFDBtF"
      },
      "execution_count": null,
      "outputs": []
    },
    {
      "cell_type": "code",
      "source": [
        "numeric_variable=[5,6,7,8]\n",
        "categoric_variable=[0,1,2,3,4,9,10,11]\n",
        "df.drop('Loan_ID',axis=1,inplace=True)\n",
        "categoric_variable_2=[np.array(df.iloc[:,i].value_counts().index) for i in categoric_variable]"
      ],
      "metadata": {
        "execution": {
          "iopub.status.busy": "2023-12-19T05:14:04.925963Z",
          "iopub.execute_input": "2023-12-19T05:14:04.92629Z",
          "iopub.status.idle": "2023-12-19T05:14:04.936995Z",
          "shell.execute_reply.started": "2023-12-19T05:14:04.926263Z",
          "shell.execute_reply": "2023-12-19T05:14:04.936053Z"
        },
        "trusted": true,
        "id": "wEZq71AjDBtF"
      },
      "execution_count": null,
      "outputs": []
    },
    {
      "cell_type": "code",
      "source": [
        "#transformation\n",
        "data=df.astype('str')\n",
        "for j in range(len(categoric_variable)):\n",
        "    if any(data[data.columns[categoric_variable[j]]].apply(lambda x:x[0].isnumeric())):\n",
        "        for i in categoric_variable_2[j]:\n",
        "            df.loc[df.iloc[:,categoric_variable[j]]==i,df.columns[categoric_variable[j]]]=str(i)[0]\n",
        "    else:\n",
        "        unique=np.flip(categoric_variable_2[j])\n",
        "        for i in range(0,len(unique)):\n",
        "            df.loc[df.iloc[:,categoric_variable[j]]==unique[i],df.columns[categoric_variable[j]]]=i"
      ],
      "metadata": {
        "execution": {
          "iopub.status.busy": "2023-12-19T05:14:06.798248Z",
          "iopub.execute_input": "2023-12-19T05:14:06.798594Z",
          "iopub.status.idle": "2023-12-19T05:14:06.821873Z",
          "shell.execute_reply.started": "2023-12-19T05:14:06.798566Z",
          "shell.execute_reply": "2023-12-19T05:14:06.820669Z"
        },
        "trusted": true,
        "id": "WHPN96raDBtF"
      },
      "execution_count": null,
      "outputs": []
    },
    {
      "cell_type": "code",
      "source": [
        "#Trying to find the purest class distribution by dividing Featrue into thresholds\n",
        "def find_min_index(value,indexs):\n",
        "    new_list=sorted(value)\n",
        "    for i in range(0,len(value)):\n",
        "         if value[i]==new_list[0]:\n",
        "            return indexs[i]\n",
        "def find_max_index(value,indexs):\n",
        "    new_list=sorted(value)\n",
        "    for i in range(0,len(value)):\n",
        "         if value[i]==new_list[-1]:\n",
        "            return indexs[i]\n",
        "#A version of the above objective with the gini index:\n",
        "def calculate_gini(x_data,x_train):\n",
        "    class_first=x_data.loc[x_train[x_train.iloc[:,-1]==x_train.iloc[:,-1].value_counts().index[0]].index]\n",
        "    class_second=x_data.loc[x_train[x_train.iloc[:,-1]==x_train.iloc[:,-1].value_counts().index[1]].index]\n",
        "    unique=x_data[0].value_counts().index\n",
        "    gini_list=[]\n",
        "    for i in range(0,len(unique)):\n",
        "        first_class_rate=np.square((len(class_first[class_first.iloc[:,0]==unique[i]]))/(len(x_data[x_data.iloc[:,0]==unique[i]])))\n",
        "        second_class_rate=np.square((len(class_second[class_second.iloc[:,0]==unique[i]]))/(len(x_data[x_data.iloc[:,0]==unique[i]])))\n",
        "        gini_list.append((1-first_class_rate-second_class_rate)*(len(x_data[x_data==unique[i]])/len(x_data)))\n",
        "\n",
        "    return sum(gini_list)\n",
        "def split_numeric_feature(x_train,indis):\n",
        "    gini_list_threshold=[]\n",
        "    gini_threshold=[]\n",
        "    x_data=pd.DataFrame(np.full(len(x_train),1),index=x_train.index)\n",
        "    std=math.ceil((np.std(x_train.iloc[:,indis])))\n",
        "    for i in range(math.ceil(np.min(x_train.iloc[:,indis])),math.floor(np.max(x_train.iloc[:,indis])),200):\n",
        "        if (len(x_train.loc[x_train.iloc[:,indis]>i])<10) or (len(x_train.loc[x_train.iloc[:,indis]<=i])<10):\n",
        "            continue\n",
        "        else:\n",
        "            x_data[0]=['Upper' if j>=i else 'Lower' for j in x_train.iloc[:,indis]]\n",
        "            value_gini=calculate_gini(x_data,x_train)\n",
        "            gini_list_threshold.append(value_gini)\n",
        "            gini_threshold.append(i)\n",
        "    result=find_min_index(gini_list_threshold,gini_threshold)\n",
        "    return result\n",
        "threshold_list=[]\n",
        "data2=df.dropna(axis=0)\n",
        "for i in range(5,9):\n",
        "    threshold_list.append(split_numeric_feature(data2,i))\n",
        "threshold_list=dict(zip(numeric_variable,threshold_list))"
      ],
      "metadata": {
        "execution": {
          "iopub.status.busy": "2023-12-19T05:14:09.685006Z",
          "iopub.execute_input": "2023-12-19T05:14:09.685356Z",
          "iopub.status.idle": "2023-12-19T05:14:10.766585Z",
          "shell.execute_reply.started": "2023-12-19T05:14:09.685328Z",
          "shell.execute_reply": "2023-12-19T05:14:10.765316Z"
        },
        "trusted": true,
        "id": "pGhiLm09DBtG"
      },
      "execution_count": null,
      "outputs": []
    },
    {
      "cell_type": "code",
      "source": [
        "def fill_nan(data,feature,threshold_list):\n",
        "    nan_result=[]\n",
        "    condition=[]\n",
        "    for j in df[df[df.columns[feature]].isnull()].index:\n",
        "        if feature in numeric_variable:\n",
        "            corr_=df.corr().iloc[:,feature]\n",
        "            new_corr=sorted(corr_)\n",
        "            corr_list=[]\n",
        "            for i in range(len(corr_)):\n",
        "                if (corr_.values[i] in new_corr[7:]) and (corr_.values[i]!=1):\n",
        "                    corr_list.append(i)\n",
        "            for i in corr_list:\n",
        "                if i in numeric_variable:\n",
        "                    if df.iloc[j,i]>threshold_list[i]:\n",
        "                        nan_result.append(df.loc[df.iloc[:,i]>threshold_list[i]].index)\n",
        "                    else:\n",
        "                        nan_result.append(df.loc[df.iloc[:,i]<=threshold_list[i]].index)\n",
        "                else:\n",
        "                     nan_result.append(df.loc[df.iloc[:,i]==df.iloc[j,i]].index)\n",
        "            lngth=len(nan_result)\n",
        "            nan_result_1=[nan_result[i][j] for i in range(len(nan_result)) for j in range(len(nan_result[i]))]\n",
        "            counted=Counter(list(nan_result_1))\n",
        "            for m in counted:\n",
        "                if counted[m]==lngth:\n",
        "                    condition.append(m)\n",
        "            df.loc[j,df.columns[feature]]=np.mean(df.loc[condition,df.columns[feature]])\n",
        "            nan_result=[]\n",
        "        else:\n",
        "            df.loc[j,df.columns[feature]]=(df.loc[:,df.columns[feature]]).mode()[0]\n",
        ""
      ],
      "metadata": {
        "execution": {
          "iopub.status.busy": "2023-12-19T05:14:14.679296Z",
          "iopub.execute_input": "2023-12-19T05:14:14.679578Z",
          "iopub.status.idle": "2023-12-19T05:14:14.690121Z",
          "shell.execute_reply.started": "2023-12-19T05:14:14.679555Z",
          "shell.execute_reply": "2023-12-19T05:14:14.689127Z"
        },
        "trusted": true,
        "id": "BQpUrN-8DBtG"
      },
      "execution_count": null,
      "outputs": []
    },
    {
      "cell_type": "code",
      "source": [
        "nan_feature=[]\n",
        "is_na=df.isna().sum()\n",
        "for i in range(len(is_na)):\n",
        "    if is_na[i]!=0:\n",
        "        nan_feature.append(i)\n",
        "for j in nan_feature:\n",
        "    fill_nan(df,j,threshold_list)"
      ],
      "metadata": {
        "execution": {
          "iopub.status.busy": "2023-12-19T05:14:17.127632Z",
          "iopub.execute_input": "2023-12-19T05:14:17.127999Z",
          "iopub.status.idle": "2023-12-19T05:14:17.34712Z",
          "shell.execute_reply.started": "2023-12-19T05:14:17.127972Z",
          "shell.execute_reply": "2023-12-19T05:14:17.345594Z"
        },
        "trusted": true,
        "id": "CwG9VY2dDBtG"
      },
      "execution_count": null,
      "outputs": []
    },
    {
      "cell_type": "code",
      "source": [
        "#Normalization\n",
        "df.iloc[:,numeric_variable]=(np.array(df.iloc[:,numeric_variable])-np.min(np.array(df.iloc[:,numeric_variable]),axis=0))/(np.max(np.array(df.iloc[:,numeric_variable]),axis=0)-np.min(np.array(df.iloc[:,numeric_variable]),axis=0))"
      ],
      "metadata": {
        "execution": {
          "iopub.status.busy": "2023-12-19T05:14:18.693856Z",
          "iopub.execute_input": "2023-12-19T05:14:18.694195Z",
          "iopub.status.idle": "2023-12-19T05:14:18.704046Z",
          "shell.execute_reply.started": "2023-12-19T05:14:18.69416Z",
          "shell.execute_reply": "2023-12-19T05:14:18.702674Z"
        },
        "trusted": true,
        "id": "1cel8c8nDBtG"
      },
      "execution_count": null,
      "outputs": []
    },
    {
      "cell_type": "code",
      "source": [
        "#Data Visualization----------------->"
      ],
      "metadata": {
        "id": "ZiGeqp5wDBtG"
      },
      "execution_count": null,
      "outputs": []
    },
    {
      "cell_type": "code",
      "source": [
        "def plot_bar(feature,name):\n",
        "    data=go.Bar(\n",
        "                x=feature.value_counts().index,\n",
        "                y=feature.value_counts().values,\n",
        "                marker=dict(color='rgb(23,44,123)')\n",
        "               )\n",
        "    layout=go.Layout(\n",
        "                title='The Graphic Of Categoric Feature',\n",
        "                xaxis=dict(title='{}'.format(name)),\n",
        "                yaxis=dict(title='Frequency')\n",
        "               )\n",
        "    figure=go.Figure(data=[data],layout=layout)\n",
        "    iplot(figure)"
      ],
      "metadata": {
        "execution": {
          "iopub.status.busy": "2023-12-13T20:38:10.277101Z",
          "iopub.execute_input": "2023-12-13T20:38:10.277546Z",
          "iopub.status.idle": "2023-12-13T20:38:10.284833Z",
          "shell.execute_reply.started": "2023-12-13T20:38:10.27751Z",
          "shell.execute_reply": "2023-12-13T20:38:10.283698Z"
        },
        "trusted": true,
        "id": "kIxDcsV-DBtG"
      },
      "execution_count": null,
      "outputs": []
    },
    {
      "cell_type": "code",
      "source": [
        "for i in range(0,len(categoric_variable)):\n",
        "    plot_bar(df.iloc[:,categoric_variable[i]],df.columns[categoric_variable[i]])"
      ],
      "metadata": {
        "execution": {
          "iopub.status.busy": "2023-12-13T20:38:13.50894Z",
          "iopub.execute_input": "2023-12-13T20:38:13.509354Z",
          "iopub.status.idle": "2023-12-13T20:38:15.729822Z",
          "shell.execute_reply.started": "2023-12-13T20:38:13.509314Z",
          "shell.execute_reply": "2023-12-13T20:38:15.728729Z"
        },
        "trusted": true,
        "id": "AOk3X8nVDBtG"
      },
      "execution_count": null,
      "outputs": []
    },
    {
      "cell_type": "code",
      "source": [
        "def plot_hist(feature,name):\n",
        "    data=go.Histogram(\n",
        "                x=feature.value_counts().index,\n",
        "                y=feature.value_counts().values,\n",
        "                marker=dict(color='rgb(45,100,3)')\n",
        "               )\n",
        "    layout=go.Layout(\n",
        "                title='The Graphic Of Numeric Feature',\n",
        "                xaxis=dict(title='{}'.format(name)),\n",
        "                yaxis=dict(title='Frequency')\n",
        "               )\n",
        "    figure=go.Figure(data=[data],layout=layout)\n",
        "    iplot(figure)"
      ],
      "metadata": {
        "execution": {
          "iopub.status.busy": "2023-12-13T20:39:37.47223Z",
          "iopub.execute_input": "2023-12-13T20:39:37.472628Z",
          "iopub.status.idle": "2023-12-13T20:39:37.480267Z",
          "shell.execute_reply.started": "2023-12-13T20:39:37.472597Z",
          "shell.execute_reply": "2023-12-13T20:39:37.478933Z"
        },
        "trusted": true,
        "id": "d9nOR_YUDBtH"
      },
      "execution_count": null,
      "outputs": []
    },
    {
      "cell_type": "code",
      "source": [
        "for i in range(0,len(numeric_variable)):\n",
        "    plot_hist(df.iloc[:,numeric_variable[i]],df.columns[numeric_variable[i]])"
      ],
      "metadata": {
        "execution": {
          "iopub.status.busy": "2023-12-13T20:39:44.368416Z",
          "iopub.execute_input": "2023-12-13T20:39:44.36884Z",
          "iopub.status.idle": "2023-12-13T20:39:44.519382Z",
          "shell.execute_reply.started": "2023-12-13T20:39:44.368808Z",
          "shell.execute_reply": "2023-12-13T20:39:44.51843Z"
        },
        "trusted": true,
        "id": "hE5AxxH_DBtH"
      },
      "execution_count": null,
      "outputs": []
    },
    {
      "cell_type": "code",
      "source": [
        "scatter_matrix = pd.plotting.scatter_matrix(df, figsize=(15, 15), diagonal='hist',alpha=0.5)\n",
        "plt.show()"
      ],
      "metadata": {
        "execution": {
          "iopub.status.busy": "2023-12-08T18:02:35.236728Z",
          "iopub.execute_input": "2023-12-08T18:02:35.237078Z",
          "iopub.status.idle": "2023-12-08T18:02:37.968233Z",
          "shell.execute_reply.started": "2023-12-08T18:02:35.237047Z",
          "shell.execute_reply": "2023-12-08T18:02:37.965456Z"
        },
        "trusted": true,
        "id": "JIv7C8BhDBtH"
      },
      "execution_count": null,
      "outputs": []
    },
    {
      "cell_type": "code",
      "source": [
        "#corr\n",
        "figure_size = (14, 9)\n",
        "fig, ax = plt.subplots(figsize=figure_size)\n",
        "sns.heatmap(df.corr(),annot=True,ax=ax)"
      ],
      "metadata": {
        "execution": {
          "iopub.status.busy": "2023-12-16T04:35:32.111041Z",
          "iopub.execute_input": "2023-12-16T04:35:32.11226Z",
          "iopub.status.idle": "2023-12-16T04:35:33.163603Z",
          "shell.execute_reply.started": "2023-12-16T04:35:32.112215Z",
          "shell.execute_reply": "2023-12-16T04:35:33.16262Z"
        },
        "trusted": true,
        "id": "EOtNNirLDBtH"
      },
      "execution_count": null,
      "outputs": []
    },
    {
      "cell_type": "code",
      "source": [
        "sns.boxplot(x='Gender',y='ApplicantIncome',data=df)"
      ],
      "metadata": {
        "execution": {
          "iopub.status.busy": "2023-12-17T06:08:03.551211Z",
          "iopub.execute_input": "2023-12-17T06:08:03.551678Z",
          "iopub.status.idle": "2023-12-17T06:08:03.750462Z",
          "shell.execute_reply.started": "2023-12-17T06:08:03.551644Z",
          "shell.execute_reply": "2023-12-17T06:08:03.749371Z"
        },
        "trusted": true,
        "id": "uALcZEqNDBtH"
      },
      "execution_count": null,
      "outputs": []
    },
    {
      "cell_type": "code",
      "source": [
        "sns.boxplot(x='Married',y='ApplicantIncome',data=df)"
      ],
      "metadata": {
        "execution": {
          "iopub.status.busy": "2023-12-17T06:05:19.557631Z",
          "iopub.execute_input": "2023-12-17T06:05:19.55805Z",
          "iopub.status.idle": "2023-12-17T06:05:19.755862Z",
          "shell.execute_reply.started": "2023-12-17T06:05:19.558015Z",
          "shell.execute_reply": "2023-12-17T06:05:19.754739Z"
        },
        "trusted": true,
        "id": "ktVUHOGdDBtH"
      },
      "execution_count": null,
      "outputs": []
    },
    {
      "cell_type": "code",
      "source": [
        "sns.boxplot(x='Dependents',y='ApplicantIncome',data=df)"
      ],
      "metadata": {
        "execution": {
          "iopub.status.busy": "2023-12-17T06:04:14.499592Z",
          "iopub.execute_input": "2023-12-17T06:04:14.50006Z",
          "iopub.status.idle": "2023-12-17T06:04:14.742358Z",
          "shell.execute_reply.started": "2023-12-17T06:04:14.500026Z",
          "shell.execute_reply": "2023-12-17T06:04:14.741599Z"
        },
        "trusted": true,
        "id": "M-T6qM8vDBtH"
      },
      "execution_count": null,
      "outputs": []
    },
    {
      "cell_type": "code",
      "source": [
        "#Visualization of anomalies:\n",
        "sns.boxplot(x='Education',y='ApplicantIncome',data=df)"
      ],
      "metadata": {
        "execution": {
          "iopub.status.busy": "2023-12-17T05:36:19.832127Z",
          "iopub.execute_input": "2023-12-17T05:36:19.832605Z",
          "iopub.status.idle": "2023-12-17T05:36:20.074516Z",
          "shell.execute_reply.started": "2023-12-17T05:36:19.832566Z",
          "shell.execute_reply": "2023-12-17T05:36:20.073412Z"
        },
        "trusted": true,
        "id": "lev6dlNRDBtH"
      },
      "execution_count": null,
      "outputs": []
    },
    {
      "cell_type": "code",
      "source": [
        "sns.boxplot(x='Self_Employed',y='ApplicantIncome',data=df)"
      ],
      "metadata": {
        "execution": {
          "iopub.status.busy": "2023-12-17T05:36:23.042053Z",
          "iopub.execute_input": "2023-12-17T05:36:23.043183Z",
          "iopub.status.idle": "2023-12-17T05:36:23.296668Z",
          "shell.execute_reply.started": "2023-12-17T05:36:23.043132Z",
          "shell.execute_reply": "2023-12-17T05:36:23.295601Z"
        },
        "trusted": true,
        "id": "D7C_6qT-DBtH"
      },
      "execution_count": null,
      "outputs": []
    },
    {
      "cell_type": "code",
      "source": [
        "sns.lmplot(x = 'ApplicantIncome', y = 'LoanAmount', fit_reg = False, hue = 'Loan_Status', data = df)"
      ],
      "metadata": {
        "execution": {
          "iopub.status.busy": "2023-12-17T05:43:55.590414Z",
          "iopub.execute_input": "2023-12-17T05:43:55.591611Z",
          "iopub.status.idle": "2023-12-17T05:43:56.145841Z",
          "shell.execute_reply.started": "2023-12-17T05:43:55.591572Z",
          "shell.execute_reply": "2023-12-17T05:43:56.144666Z"
        },
        "trusted": true,
        "id": "pMB8jr87DBtH"
      },
      "execution_count": null,
      "outputs": []
    },
    {
      "cell_type": "code",
      "source": [
        "sns.lmplot(x = 'ApplicantIncome', y = 'CoapplicantIncome', fit_reg = False, hue = 'Loan_Status', data = df)"
      ],
      "metadata": {
        "execution": {
          "iopub.status.busy": "2023-12-17T05:34:16.581277Z",
          "iopub.execute_input": "2023-12-17T05:34:16.581647Z",
          "iopub.status.idle": "2023-12-17T05:34:17.17581Z",
          "shell.execute_reply.started": "2023-12-17T05:34:16.581618Z",
          "shell.execute_reply": "2023-12-17T05:34:17.174751Z"
        },
        "trusted": true,
        "id": "beEyj-u5DBtH"
      },
      "execution_count": null,
      "outputs": []
    },
    {
      "cell_type": "code",
      "source": [
        "'''NOTES:\n",
        "-Lending has little to do with whether you are a man or a woman\n",
        "The number of credits given to female graduates is 5 times higher than non-graduates\n",
        "Number of credits given to male graduates is 2 times more than non-graduates\n",
        "-If an ekek lives in a semi-urban area, he is not given a loan\n",
        "-Whether a man is married and lives in a rural or urban area gives him the same chance of getting a loan or not\n",
        "A married man is two-thirds more likely to receive a loan than a married man in the general category.\n",
        "-Lending rate decreases as the number of dependents increases\n",
        "'''"
      ],
      "metadata": {
        "execution": {
          "iopub.status.busy": "2023-12-08T18:02:37.99885Z",
          "iopub.status.idle": "2023-12-08T18:02:37.999714Z",
          "shell.execute_reply.started": "2023-12-08T18:02:37.999493Z",
          "shell.execute_reply": "2023-12-08T18:02:37.999517Z"
        },
        "trusted": true,
        "id": "VjgFgNZuDBtI"
      },
      "execution_count": null,
      "outputs": []
    },
    {
      "cell_type": "code",
      "source": [
        "#Proportion of women and men receiving loans:\n",
        "female_rate=100*len(df[(df['Gender']==df['Gender'].value_counts().index[1])&(df['Loan_Status']==1)])/(len(df[df['Gender']==df['Gender'].value_counts().index[1]]))\n",
        "male_rate=100*len(df[(df['Gender']==df['Gender'].value_counts().index[0])&(df['Loan_Status']==1)])/(len(df[df['Gender']==df['Gender'].value_counts().index[0]]))\n",
        "#Proportion of (women and graduates) and (women and !graduates) receiving loans:\n",
        "female_rate_1=100*len(df[(df['Gender']==df['Gender'].value_counts().index[1])&(df['Loan_Status']==1)&(df['Education']==0)])/(len(df[df['Gender']==df['Gender'].value_counts().index[1]]))\n",
        "female_rate_2=100*len(df[(df['Gender']==df['Gender'].value_counts().index[1])&(df['Loan_Status']==1)&(df['Education']==1)])/(len(df[df['Gender']==df['Gender'].value_counts().index[1]]))\n",
        "male_rate_1=100*len(df[(df['Gender']==df['Gender'].value_counts().index[0])&(df['Loan_Status']==1)&(df['Education']==0)])/(len(df[df['Gender']==df['Gender'].value_counts().index[0]]))\n",
        "male_rate_2=100*len(df[(df['Gender']==df['Gender'].value_counts().index[0])&(df['Loan_Status']==1)&(df['Education']==1)])/(len(df[df['Gender']==df['Gender'].value_counts().index[0]]))\n",
        "#Married and rural men vs Married and urban men vs Married and semi-urban men:\n",
        "male_rate_12=100*len(df[(df['Gender']==df['Gender'].value_counts().index[0])&(df['Loan_Status']==1)&(df['Married']==0)&(df['Property_Area']==2)])/(len(df[df['Gender']==df['Gender'].value_counts().index[0]]))\n",
        "male_rate_13=100*len(df[(df['Gender']==df['Gender'].value_counts().index[0])&(df['Loan_Status']==1)&(df['Married']==0)&(df['Property_Area']==1)])/(len(df[df['Gender']==df['Gender'].value_counts().index[0]]))\n",
        "male_rate_14=100*len(df[(df['Gender']==df['Gender'].value_counts().index[0])&(df['Loan_Status']==1)&(df['Married']==0)&(df['Property_Area']==3)])/(len(df[df['Gender']==df['Gender'].value_counts().index[0]]))\n",
        "male_rate_15=100*len(df[(df['Gender']==df['Gender'].value_counts().index[0])&(df['Loan_Status']==1)&(df['Married']==0)])/(len(df[df['Gender']==df['Gender'].value_counts().index[0]]))\n",
        "#Change in credit rate as the number of dependents increases:\n",
        "male_rate_16=100*len(df[(df['Dependents']==df['Dependents'].value_counts().index[0])&(df['Loan_Status']==1)])/(len(df))\n",
        "male_rate_17=100*len(df[(df['Dependents']==df['Dependents'].value_counts().index[1])&(df['Loan_Status']==1)])/(len(df))\n",
        "male_rate_18=100*len(df[(df['Dependents']==df['Dependents'].value_counts().index[2])&(df['Loan_Status']==1)])/(len(df))\n",
        "male_rate_19=100*len(df[(df['Dependents']==df['Dependents'].value_counts().index[3])&(df['Loan_Status']==1)])/(len(df))\n",
        "\n",
        "print(male_rate_16)\n",
        "print(male_rate_17)\n",
        "print(male_rate_18)\n",
        "print(male_rate_19)"
      ],
      "metadata": {
        "execution": {
          "iopub.status.busy": "2023-12-11T04:35:29.707235Z",
          "iopub.execute_input": "2023-12-11T04:35:29.70765Z",
          "iopub.status.idle": "2023-12-11T04:35:29.768775Z",
          "shell.execute_reply.started": "2023-12-11T04:35:29.707619Z",
          "shell.execute_reply": "2023-12-11T04:35:29.767649Z"
        },
        "trusted": true,
        "id": "UVmaVTyADBtI"
      },
      "execution_count": null,
      "outputs": []
    },
    {
      "cell_type": "code",
      "source": [
        "class_name=[]\n",
        "percent_list=np.array([])\n",
        "rate_list=[]\n",
        "for j in categoric_variable:\n",
        "    sayac=0\n",
        "    while True:\n",
        "        percent_list=np.append(percent_list,[100*len(df[(df.iloc[:,j]==df.iloc[:,j].value_counts().index[sayac])&(df['Loan_Status']==1)])/(len(df[df.iloc[:,j]==df.iloc[:,j].value_counts().index[sayac]]))])\n",
        "        class_name.append(df.iloc[:,j].value_counts().index[sayac])\n",
        "        sayac+=1\n",
        "        if sayac==len(df.iloc[:,j].value_counts().index):\n",
        "            break\n",
        "    rate_list.append(percent_list)\n",
        "    percent_list=[]\n",
        "print(rate_list)"
      ],
      "metadata": {
        "execution": {
          "iopub.status.busy": "2023-12-11T04:35:39.528592Z",
          "iopub.execute_input": "2023-12-11T04:35:39.529309Z",
          "iopub.status.idle": "2023-12-11T04:35:39.62008Z",
          "shell.execute_reply.started": "2023-12-11T04:35:39.529268Z",
          "shell.execute_reply": "2023-12-11T04:35:39.618935Z"
        },
        "trusted": true,
        "id": "oQEqtxADDBtI"
      },
      "execution_count": null,
      "outputs": []
    },
    {
      "cell_type": "code",
      "source": [
        "#Status of features according to whether a loan is granted or not:\n",
        "def loan_rate(df,rate_list,categoric_variable,catcategoric_variable_2):\n",
        "    trace1=go.Bar(\n",
        "                x=catcategoric_variable_2,\n",
        "                y=rate_list,\n",
        "                marker=dict(color='rgb(45,100,3)')\n",
        "               )\n",
        "    layout=go.Layout(\n",
        "                title='The Graphic Of Numeric Feature',\n",
        "                xaxis=dict(title='{}'.format(df.columns[categoric_variable])),\n",
        "                yaxis=dict(title='Frequency')\n",
        "               )\n",
        "    figure=go.Figure(data=[trace1],layout=layout)\n",
        "    iplot(figure)\n",
        "\n",
        "\n",
        "for i in range(len(categoric_variable)-1):\n",
        "    loan_rate(df,rate_list[i],categoric_variable[i],categoric_variable_2[i])\n",
        ""
      ],
      "metadata": {
        "execution": {
          "iopub.status.busy": "2023-12-11T04:36:48.339056Z",
          "iopub.execute_input": "2023-12-11T04:36:48.339678Z",
          "iopub.status.idle": "2023-12-11T04:36:48.586114Z",
          "shell.execute_reply.started": "2023-12-11T04:36:48.339633Z",
          "shell.execute_reply": "2023-12-11T04:36:48.584987Z"
        },
        "trusted": true,
        "id": "rJmxS4T8DBtI"
      },
      "execution_count": null,
      "outputs": []
    },
    {
      "cell_type": "code",
      "source": [
        "#Histogram distribution in each featurette according to the unique values in the class column, i.e. whether or not they received a loan\n",
        "def plot_displot(numerical_variable):\n",
        "    g=sns.FaceGrid(df,col='Loan_Status')\n",
        "    g.map(sns.distplot,df[df.columns[indis]],bins=25)\n",
        "    plt.show()"
      ],
      "metadata": {
        "id": "liiJN4WwDBtI"
      },
      "execution_count": null,
      "outputs": []
    },
    {
      "cell_type": "code",
      "source": [
        "#DATA VISUALTİON OVER-----------------<"
      ],
      "metadata": {
        "id": "oMHHYl86DBtJ"
      },
      "execution_count": null,
      "outputs": []
    },
    {
      "cell_type": "code",
      "source": [
        "df.head()"
      ],
      "metadata": {
        "execution": {
          "iopub.status.busy": "2023-12-19T03:26:28.285918Z",
          "iopub.execute_input": "2023-12-19T03:26:28.286818Z",
          "iopub.status.idle": "2023-12-19T03:26:28.301211Z",
          "shell.execute_reply.started": "2023-12-19T03:26:28.286774Z",
          "shell.execute_reply": "2023-12-19T03:26:28.299953Z"
        },
        "trusted": true,
        "id": "IYedyx3_DBtJ",
        "outputId": "707ea1ce-6d66-4fdd-a107-813a3af25e19"
      },
      "execution_count": null,
      "outputs": [
        {
          "execution_count": 25,
          "output_type": "execute_result",
          "data": {
            "text/plain": "  Gender Married Dependents Education Self_Employed  ApplicantIncome  \\\n0      1       0          0         1             1         0.070489   \n1      1       1          1         1             1         0.054830   \n2      1       1          0         1             0         0.035250   \n3      1       1          0         0             1         0.030093   \n4      1       0          0         1             1         0.072356   \n\n   CoapplicantIncome  LoanAmount  Loan_Amount_Term Credit_History  \\\n0           0.000000    0.211318           0.74359              1   \n1           0.036192    0.172214           0.74359              1   \n2           0.000000    0.082489           0.74359              1   \n3           0.056592    0.160637           0.74359              1   \n4           0.000000    0.191027           0.74359              1   \n\n  Property_Area Loan_Status  \n0             1           1  \n1             0           0  \n2             1           1  \n3             1           1  \n4             1           1  ",
            "text/html": "<div>\n<style scoped>\n    .dataframe tbody tr th:only-of-type {\n        vertical-align: middle;\n    }\n\n    .dataframe tbody tr th {\n        vertical-align: top;\n    }\n\n    .dataframe thead th {\n        text-align: right;\n    }\n</style>\n<table border=\"1\" class=\"dataframe\">\n  <thead>\n    <tr style=\"text-align: right;\">\n      <th></th>\n      <th>Gender</th>\n      <th>Married</th>\n      <th>Dependents</th>\n      <th>Education</th>\n      <th>Self_Employed</th>\n      <th>ApplicantIncome</th>\n      <th>CoapplicantIncome</th>\n      <th>LoanAmount</th>\n      <th>Loan_Amount_Term</th>\n      <th>Credit_History</th>\n      <th>Property_Area</th>\n      <th>Loan_Status</th>\n    </tr>\n  </thead>\n  <tbody>\n    <tr>\n      <th>0</th>\n      <td>1</td>\n      <td>0</td>\n      <td>0</td>\n      <td>1</td>\n      <td>1</td>\n      <td>0.070489</td>\n      <td>0.000000</td>\n      <td>0.211318</td>\n      <td>0.74359</td>\n      <td>1</td>\n      <td>1</td>\n      <td>1</td>\n    </tr>\n    <tr>\n      <th>1</th>\n      <td>1</td>\n      <td>1</td>\n      <td>1</td>\n      <td>1</td>\n      <td>1</td>\n      <td>0.054830</td>\n      <td>0.036192</td>\n      <td>0.172214</td>\n      <td>0.74359</td>\n      <td>1</td>\n      <td>0</td>\n      <td>0</td>\n    </tr>\n    <tr>\n      <th>2</th>\n      <td>1</td>\n      <td>1</td>\n      <td>0</td>\n      <td>1</td>\n      <td>0</td>\n      <td>0.035250</td>\n      <td>0.000000</td>\n      <td>0.082489</td>\n      <td>0.74359</td>\n      <td>1</td>\n      <td>1</td>\n      <td>1</td>\n    </tr>\n    <tr>\n      <th>3</th>\n      <td>1</td>\n      <td>1</td>\n      <td>0</td>\n      <td>0</td>\n      <td>1</td>\n      <td>0.030093</td>\n      <td>0.056592</td>\n      <td>0.160637</td>\n      <td>0.74359</td>\n      <td>1</td>\n      <td>1</td>\n      <td>1</td>\n    </tr>\n    <tr>\n      <th>4</th>\n      <td>1</td>\n      <td>0</td>\n      <td>0</td>\n      <td>1</td>\n      <td>1</td>\n      <td>0.072356</td>\n      <td>0.000000</td>\n      <td>0.191027</td>\n      <td>0.74359</td>\n      <td>1</td>\n      <td>1</td>\n      <td>1</td>\n    </tr>\n  </tbody>\n</table>\n</div>"
          },
          "metadata": {}
        }
      ]
    },
    {
      "cell_type": "code",
      "source": [
        "from sklearn.cluster import KMeans\n",
        "from sklearn.model_selection import train_test_split\n",
        "df.iloc[:,list(range(5))+list(range(9,12))]=df.iloc[:,list(range(5))+list(range(9,12))].astype(int)\n",
        "x=df.loc[:,df.columns[0:11]]\n",
        "y=df.iloc[:,11]\n",
        "x_train,x_test,y_train,y_test = train_test_split(x,y,test_size=0.3,random_state=42)\n",
        "y_test=y_test.astype(int)\n",
        "wcss = []\n",
        "number_of_cluster = range(1,11)\n",
        "for i in number_of_cluster :\n",
        "    kmeans = KMeans(n_clusters = i, init = 'k-means++', max_iter = 300, n_init = 10, random_state = 0)\n",
        "    kmeans.fit(x_train.values)\n",
        "    wcss.append(kmeans.inertia_)\n",
        "\n",
        "plt.plot(number_of_cluster, wcss)\n",
        "plt.title('Elbow method to determine the number of clusters')\n",
        "plt.xlabel('Number of cluster')\n",
        "plt.ylabel('WCSS')\n",
        "plt.show()"
      ],
      "metadata": {
        "execution": {
          "iopub.status.busy": "2023-12-19T05:14:27.809133Z",
          "iopub.execute_input": "2023-12-19T05:14:27.809442Z",
          "iopub.status.idle": "2023-12-19T05:14:28.864117Z",
          "shell.execute_reply.started": "2023-12-19T05:14:27.809419Z",
          "shell.execute_reply": "2023-12-19T05:14:28.863068Z"
        },
        "trusted": true,
        "id": "j27goaG2DBtJ",
        "outputId": "328485bd-2b60-456f-a647-1ac85860988e"
      },
      "execution_count": null,
      "outputs": [
        {
          "output_type": "display_data",
          "data": {
            "text/plain": "<Figure size 640x480 with 1 Axes>",
            "image/png": "[encoded data removed]"
          },
          "metadata": {}
        }
      ]
    },
    {
      "cell_type": "code",
      "source": [
        "kmeans = KMeans(n_clusters = 5, init = 'k-means++', max_iter = 500, n_init =10, random_state = 0)\n",
        "y_kmeans = kmeans.fit_predict(x_train.values)\n",
        "x_train['Cluster']=y_kmeans"
      ],
      "metadata": {
        "execution": {
          "iopub.status.busy": "2023-12-19T05:14:31.591623Z",
          "iopub.execute_input": "2023-12-19T05:14:31.592505Z",
          "iopub.status.idle": "2023-12-19T05:14:31.619048Z",
          "shell.execute_reply.started": "2023-12-19T05:14:31.592471Z",
          "shell.execute_reply": "2023-12-19T05:14:31.618175Z"
        },
        "trusted": true,
        "id": "c3ozCJb6DBtJ",
        "outputId": "6916a037-78fb-47ed-cc38-9447823f41a1"
      },
      "execution_count": null,
      "outputs": [
        {
          "execution_count": 234,
          "output_type": "execute_result",
          "data": {
            "text/plain": "\"x_train.iloc[:,[11,12]]=x_train.iloc[:,[12,11]]\\ndf=df.rename(columns={'Loan_Status':'temp','Cluster':'Loan_Status', 'temp':'Cluster'})\\ndf=df.rename(columns={'temp':'Cluster'})\""
          },
          "metadata": {}
        }
      ]
    },
    {
      "cell_type": "code",
      "source": [
        "x_train"
      ],
      "metadata": {
        "execution": {
          "iopub.status.busy": "2023-12-19T05:11:41.243609Z",
          "iopub.execute_input": "2023-12-19T05:11:41.243986Z",
          "iopub.status.idle": "2023-12-19T05:11:41.263244Z",
          "shell.execute_reply.started": "2023-12-19T05:11:41.243956Z",
          "shell.execute_reply": "2023-12-19T05:11:41.262337Z"
        },
        "trusted": true,
        "id": "zntkfH2VDBtK",
        "outputId": "536ab39d-a389-4e6c-a73a-60685c540a4b"
      },
      "execution_count": null,
      "outputs": [
        {
          "execution_count": 220,
          "output_type": "execute_result",
          "data": {
            "text/plain": "    Gender Married Dependents Education Self_Employed  ApplicantIncome  \\\n553      1       1          0         0             1         0.028497   \n601      1       1          0         0             1         0.033939   \n261      1       0          0         1             1         0.023624   \n496      1       1          0         0             1         0.030303   \n529      1       0          0         0             1         0.082041   \n..     ...     ...        ...       ...           ...              ...   \n71       1       1          2         0             0         0.021336   \n106      1       1          2         1             1         0.139357   \n270      0       0          0         1             1         0.038182   \n435      0       1          0         1             1         0.122412   \n102      1       1          0         1             1         0.166976   \n\n     CoapplicantIncome  LoanAmount  Loan_Amount_Term Credit_History  \\\n553           0.055992    0.248915          0.743590              0   \n601           0.067007    0.211288          0.743590              1   \n261           0.053016    0.180897          0.743590              1   \n496           0.040800    0.141823          0.743590              1   \n529           0.000000    0.175109          0.743590              1   \n..                 ...         ...               ...            ...   \n71            0.045000    0.127352          0.743590              1   \n106           0.027024    0.312590          0.743590              1   \n270           0.000000    0.030391          0.743590              1   \n435           0.000000    0.211131          0.487179              1   \n102           0.000000    0.202974          0.743590              1   \n\n    Property_Area  Cluster  \n553             1        3  \n601             0        3  \n261             2        4  \n496             0        3  \n529             2        4  \n..            ...      ...  \n71              2        2  \n106             1        2  \n270             1        0  \n435             2        4  \n102             1        3  \n\n[429 rows x 12 columns]",
            "text/html": "<div>\n<style scoped>\n    .dataframe tbody tr th:only-of-type {\n        vertical-align: middle;\n    }\n\n    .dataframe tbody tr th {\n        vertical-align: top;\n    }\n\n    .dataframe thead th {\n        text-align: right;\n    }\n</style>\n<table border=\"1\" class=\"dataframe\">\n  <thead>\n    <tr style=\"text-align: right;\">\n      <th></th>\n      <th>Gender</th>\n      <th>Married</th>\n      <th>Dependents</th>\n      <th>Education</th>\n      <th>Self_Employed</th>\n      <th>ApplicantIncome</th>\n      <th>CoapplicantIncome</th>\n      <th>LoanAmount</th>\n      <th>Loan_Amount_Term</th>\n      <th>Credit_History</th>\n      <th>Property_Area</th>\n      <th>Cluster</th>\n    </tr>\n  </thead>\n  <tbody>\n    <tr>\n      <th>553</th>\n      <td>1</td>\n      <td>1</td>\n      <td>0</td>\n      <td>0</td>\n      <td>1</td>\n      <td>0.028497</td>\n      <td>0.055992</td>\n      <td>0.248915</td>\n      <td>0.743590</td>\n      <td>0</td>\n      <td>1</td>\n      <td>3</td>\n    </tr>\n    <tr>\n      <th>601</th>\n      <td>1</td>\n      <td>1</td>\n      <td>0</td>\n      <td>0</td>\n      <td>1</td>\n      <td>0.033939</td>\n      <td>0.067007</td>\n      <td>0.211288</td>\n      <td>0.743590</td>\n      <td>1</td>\n      <td>0</td>\n      <td>3</td>\n    </tr>\n    <tr>\n      <th>261</th>\n      <td>1</td>\n      <td>0</td>\n      <td>0</td>\n      <td>1</td>\n      <td>1</td>\n      <td>0.023624</td>\n      <td>0.053016</td>\n      <td>0.180897</td>\n      <td>0.743590</td>\n      <td>1</td>\n      <td>2</td>\n      <td>4</td>\n    </tr>\n    <tr>\n      <th>496</th>\n      <td>1</td>\n      <td>1</td>\n      <td>0</td>\n      <td>0</td>\n      <td>1</td>\n      <td>0.030303</td>\n      <td>0.040800</td>\n      <td>0.141823</td>\n      <td>0.743590</td>\n      <td>1</td>\n      <td>0</td>\n      <td>3</td>\n    </tr>\n    <tr>\n      <th>529</th>\n      <td>1</td>\n      <td>0</td>\n      <td>0</td>\n      <td>0</td>\n      <td>1</td>\n      <td>0.082041</td>\n      <td>0.000000</td>\n      <td>0.175109</td>\n      <td>0.743590</td>\n      <td>1</td>\n      <td>2</td>\n      <td>4</td>\n    </tr>\n    <tr>\n      <th>...</th>\n      <td>...</td>\n      <td>...</td>\n      <td>...</td>\n      <td>...</td>\n      <td>...</td>\n      <td>...</td>\n      <td>...</td>\n      <td>...</td>\n      <td>...</td>\n      <td>...</td>\n      <td>...</td>\n      <td>...</td>\n    </tr>\n    <tr>\n      <th>71</th>\n      <td>1</td>\n      <td>1</td>\n      <td>2</td>\n      <td>0</td>\n      <td>0</td>\n      <td>0.021336</td>\n      <td>0.045000</td>\n      <td>0.127352</td>\n      <td>0.743590</td>\n      <td>1</td>\n      <td>2</td>\n      <td>2</td>\n    </tr>\n    <tr>\n      <th>106</th>\n      <td>1</td>\n      <td>1</td>\n      <td>2</td>\n      <td>1</td>\n      <td>1</td>\n      <td>0.139357</td>\n      <td>0.027024</td>\n      <td>0.312590</td>\n      <td>0.743590</td>\n      <td>1</td>\n      <td>1</td>\n      <td>2</td>\n    </tr>\n    <tr>\n      <th>270</th>\n      <td>0</td>\n      <td>0</td>\n      <td>0</td>\n      <td>1</td>\n      <td>1</td>\n      <td>0.038182</td>\n      <td>0.000000</td>\n      <td>0.030391</td>\n      <td>0.743590</td>\n      <td>1</td>\n      <td>1</td>\n      <td>0</td>\n    </tr>\n    <tr>\n      <th>435</th>\n      <td>0</td>\n      <td>1</td>\n      <td>0</td>\n      <td>1</td>\n      <td>1</td>\n      <td>0.122412</td>\n      <td>0.000000</td>\n      <td>0.211131</td>\n      <td>0.487179</td>\n      <td>1</td>\n      <td>2</td>\n      <td>4</td>\n    </tr>\n    <tr>\n      <th>102</th>\n      <td>1</td>\n      <td>1</td>\n      <td>0</td>\n      <td>1</td>\n      <td>1</td>\n      <td>0.166976</td>\n      <td>0.000000</td>\n      <td>0.202974</td>\n      <td>0.743590</td>\n      <td>1</td>\n      <td>1</td>\n      <td>3</td>\n    </tr>\n  </tbody>\n</table>\n<p>429 rows × 12 columns</p>\n</div>"
          },
          "metadata": {}
        }
      ]
    },
    {
      "cell_type": "code",
      "source": [
        "ref=[]\n",
        "#Create a representative sample for each cluster\n",
        "for j in x_train['Cluster'].value_counts().index:\n",
        "    cluster=x_train.loc[x_train['Cluster']==j]\n",
        "    ref.append([cluster.iloc[:,0].mode()[0],cluster.iloc[:,1].mode()[0],\n",
        "               cluster.iloc[:,2].mode()[0],cluster.iloc[:,3].mode()[0],cluster.iloc[:,4].mode()[0],\n",
        "               np.mean(cluster.iloc[:,5]),np.mean(cluster.iloc[:,6]),np.mean(cluster.iloc[:,7]),\n",
        "               np.mean(cluster.iloc[:,8]),cluster.iloc[:,9].mode()[0],cluster.iloc[:,10].mode()[0]])\n",
        "for j in ref:\n",
        "    print(j)"
      ],
      "metadata": {
        "execution": {
          "iopub.status.busy": "2023-12-19T05:14:37.775618Z",
          "iopub.execute_input": "2023-12-19T05:14:37.775972Z",
          "iopub.status.idle": "2023-12-19T05:14:37.799555Z",
          "shell.execute_reply.started": "2023-12-19T05:14:37.775947Z",
          "shell.execute_reply": "2023-12-19T05:14:37.798555Z"
        },
        "trusted": true,
        "id": "X_aV1WuJDBtK",
        "outputId": "e026acb9-9e79-4396-ca5f-62e0ae4a7bdf"
      },
      "execution_count": null,
      "outputs": [
        {
          "name": "stdout",
          "text": "[1, 1, 0, 1, 1, 0.06443446278032744, 0.03618882327136872, 0.1907252399153425, 0.702117694282792, 1, 2]\n[1, 1, 0, 1, 1, 0.05975262832405689, 0.04597291793094227, 0.20795217993216916, 0.6782468877053783, 1, 1]\n[1, 0, 0, 1, 1, 0.05723223488529611, 0.03214402856205721, 0.1733127985292351, 0.7293780222126198, 1, 1]\n[1, 1, 2, 1, 1, 0.06721161191749427, 0.03509894273356401, 0.21017236176591825, 0.6851432880844646, 1, 1]\n[1, 1, 2, 1, 1, 0.11103045763760049, 0.04162616699066408, 0.2567836468885673, 0.6971153846153846, 1, 0]\n",
          "output_type": "stream"
        }
      ]
    },
    {
      "cell_type": "code",
      "source": [
        "def find_min_index_(value):\n",
        "    new_list=sorted(value)\n",
        "    for i in range(0,len(value)):\n",
        "         if value[i]==new_list[0]:\n",
        "            return i"
      ],
      "metadata": {
        "execution": {
          "iopub.status.busy": "2023-12-19T05:14:39.972772Z",
          "iopub.execute_input": "2023-12-19T05:14:39.973644Z",
          "iopub.status.idle": "2023-12-19T05:14:39.979075Z",
          "shell.execute_reply.started": "2023-12-19T05:14:39.973614Z",
          "shell.execute_reply": "2023-12-19T05:14:39.977741Z"
        },
        "trusted": true,
        "id": "Pr3sBXteDBtK"
      },
      "execution_count": null,
      "outputs": []
    },
    {
      "cell_type": "code",
      "source": [
        "#Choosing the most appropriate classification algorithm for each cluster of the clustered data\n",
        "from sklearn.svm import SVC\n",
        "from sklearn.metrics import accuracy_score\n",
        "from sklearn.ensemble import RandomForestClassifier\n",
        "from sklearn.linear_model import LogisticRegression\n",
        "from sklearn.tree import DecisionTreeClassifier\n",
        "from sklearn.naive_bayes import GaussianNB\n",
        "accuracy_list=[]\n",
        "classifier_list=[]#Her clusterin algosu\n",
        "classifer=[0,1,2,3,4]\n",
        "cluster=x_train['Cluster'].value_counts().index\n",
        "for j in cluster:\n",
        "    x_train_1=x_train.loc[x_train['Cluster']==j,x_train.columns[:11]]\n",
        "    y_train_1=y_train.loc[x_train_1.index]\n",
        "    y_train_1=y_train_1.astype(int)\n",
        "    #SVM\n",
        "    svm =SVC(kernel='linear')  # Lineer bir SVM modeli oluşturuluyor\n",
        "    svm.fit(x_train_1,y_train_1)\n",
        "    y_pred = svm.predict(x_train_1)\n",
        "    accuracy_list.append(accuracy_score(y_train_1,y_pred))\n",
        "    #random forest\n",
        "    clf = RandomForestClassifier(n_estimators=100, random_state=42)  # n_estimators: Oluşturulacak ağaç sayısı, random_state: Rastgelelik seviyesi\n",
        "    clf.fit(x_train_1,y_train_1)\n",
        "    y_pred=clf.predict(x_train_1)\n",
        "    accuracy_list.append(accuracy_score(y_train_1,y_pred))\n",
        "    #Logistic regression\n",
        "    logistic_regression = LogisticRegression()\n",
        "    logistic_regression.fit(x_train_1,y_train_1)\n",
        "    y_pred = logistic_regression.predict(x_train_1)\n",
        "    accuracy_list.append(accuracy_score(y_train_1,y_pred))\n",
        "    #decision\n",
        "    decision_tree = DecisionTreeClassifier()\n",
        "    decision_tree.fit(x_train_1, y_train_1)\n",
        "    y_pred= decision_tree.predict(x_train_1)\n",
        "    accuracy_list.append(accuracy_score(y_train_1,y_pred))\n",
        "    #naive\n",
        "    naive_bayes = GaussianNB()  # Örnek olarak Gaussian Naive Bayes kullanıldı\n",
        "    naive_bayes.fit(x_train_1,y_train_1)\n",
        "    y_pred=naive_bayes.predict(x_train_1)\n",
        "    accuracy_list.append(accuracy_score(y_train_1,y_pred))\n",
        "    print(accuracy_list)\n",
        "    classifier_list.append(find_max_index(accuracy_list,classifer))\n",
        "    accuracy_list=[]\n",
        "print(classifier_list)\n",
        "def predict_test(sample,ref,x_test):\n",
        "    distance=[]\n",
        "    for j in ref:\n",
        "        distance.append(np.sum(np.square(np.array(j)-x_test.loc[sample,df.columns[:11]].values)))\n",
        "    return find_min_index_(distance)\n",
        "def predict(classifier,sample,x_train,y_train,cluster):\n",
        "    data=x_train.loc[x_train['Cluster']==cluster,x_train.columns[:11]]\n",
        "    data_y=y_train.loc[data.index]\n",
        "    data_y=data_y.astype(int)\n",
        "    if classifier==0:\n",
        "        svm =SVC(kernel='linear')  # Lineer bir SVM modeli oluşturuluyor\n",
        "        svm.fit(data.values,data_y)\n",
        "        y_pred = svm.predict(sample)\n",
        "    elif classifier==1:\n",
        "        clf = RandomForestClassifier(n_estimators=100, random_state=42)  # n_estimators: Oluşturulacak ağaç sayısı, random_state: Rastgelelik seviyesi\n",
        "        clf.fit(data.values, data_y)\n",
        "        y_pred=clf.predict(sample)\n",
        "    elif classifier==2:\n",
        "        logistic_regression = LogisticRegression()\n",
        "        logistic_regression.fit(data.values,data_y)\n",
        "        y_pred = logistic_regression.predict(sample)\n",
        "    elif classifier==3:\n",
        "        decision_tree = DecisionTreeClassifier()\n",
        "        decision_tree.fit(data.values,data_y)\n",
        "        y_pred= decision_tree.predict(sample)\n",
        "    else:\n",
        "        naive_bayes = GaussianNB()  # Örnek olarak Gaussian Naive Bayes kullanıldı\n",
        "        naive_bayes.fit(data.values, data_y)\n",
        "        y_pred=naive_bayes.predict(sample)\n",
        "    return y_pred"
      ],
      "metadata": {
        "execution": {
          "iopub.status.busy": "2023-12-19T05:14:41.811849Z",
          "iopub.execute_input": "2023-12-19T05:14:41.812165Z",
          "iopub.status.idle": "2023-12-19T05:14:42.589285Z",
          "shell.execute_reply.started": "2023-12-19T05:14:41.812139Z",
          "shell.execute_reply": "2023-12-19T05:14:42.588472Z"
        },
        "trusted": true,
        "id": "cuiQEb8JDBtK",
        "outputId": "174bcd15-deb0-4893-e4e6-f39d94adfd9a"
      },
      "execution_count": null,
      "outputs": [
        {
          "name": "stdout",
          "text": "[0.8721804511278195, 1.0, 0.8646616541353384, 1.0, 0.8721804511278195]\n[0.7857142857142857, 1.0, 0.7857142857142857, 1.0, 0.8035714285714286]\n[0.7142857142857143, 1.0, 0.7142857142857143, 1.0, 0.7023809523809523]\n[0.8676470588235294, 1.0, 0.8529411764705882, 1.0, 0.8529411764705882]\n[0.875, 1.0, 0.875, 1.0, 0.84375]\n[1, 1, 1, 1, 1]\n",
          "output_type": "stream"
        }
      ]
    },
    {
      "cell_type": "code",
      "source": [
        "y_head=[]\n",
        "for i in x_test.index:\n",
        "    index_=predict_test(i,ref,x_test)\n",
        "    print(index_)\n",
        "    y_head.append(predict(classifier_list[index_],np.array(x_test.loc[i,:]).reshape(1,-1),x_train,y_train,cluster[index_]))\n",
        "accuracy = accuracy_score(y_test,y_head)\n",
        "print(\"Doğruluk skoru:\", accuracy)"
      ],
      "metadata": {
        "execution": {
          "iopub.status.busy": "2023-12-19T05:15:32.246539Z",
          "iopub.execute_input": "2023-12-19T05:15:32.246908Z",
          "iopub.status.idle": "2023-12-19T05:15:56.700996Z",
          "shell.execute_reply.started": "2023-12-19T05:15:32.24688Z",
          "shell.execute_reply": "2023-12-19T05:15:56.699858Z"
        },
        "collapsed": true,
        "jupyter": {
          "outputs_hidden": true
        },
        "trusted": true,
        "id": "DUqBAksADBtP",
        "outputId": "7ee4041e-31e4-4443-e55b-8c2026219fbc"
      },
      "execution_count": null,
      "outputs": [
        {
          "name": "stdout",
          "text": "0\n0\n4\n2\n2\n4\n3\n1\n4\n1\n3\n1\n3\n4\n3\n1\n2\n2\n0\n0\n1\n3\n0\n0\n2\n2\n4\n2\n2\n4\n3\n0\n0\n2\n2\n1\n1\n3\n3\n3\n2\n1\n4\n1\n2\n3\n3\n1\n1\n2\n0\n0\n1\n2\n1\n4\n2\n3\n4\n3\n3\n0\n4\n1\n3\n2\n3\n0\n3\n1\n2\n1\n0\n4\n3\n0\n4\n4\n2\n0\n1\n3\n3\n2\n1\n0\n3\n3\n1\n1\n3\n2\n0\n0\n0\n4\n2\n3\n2\n2\n0\n0\n2\n1\n3\n4\n1\n3\n2\n2\n2\n2\n1\n4\n1\n2\n1\n1\n1\n2\n0\n3\n1\n0\n0\n3\n0\n2\n1\n3\n4\n0\n2\n0\n3\n1\n1\n1\n4\n0\n1\n3\n2\n3\n2\n1\n2\n2\n1\n2\n3\n0\n3\n2\n3\n2\n3\n2\n3\n2\n2\n2\n1\n3\n0\n0\n2\n4\n3\n4\n2\n2\n3\n0\n1\n0\n0\n4\n0\n1\n0\n4\n3\n1\n1\nDoğruluk skoru: 0.7135135135135136\n",
          "output_type": "stream"
        }
      ]
    }
  ]
}